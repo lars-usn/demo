{
 "cells": [
  {
   "cell_type": "markdown",
   "id": "db97ad28-4597-4002-8955-808d9ea413e9",
   "metadata": {
    "jp-MarkdownHeadingCollapsed": true,
    "tags": []
   },
   "source": [
    "# Pulse length and Bandwidth\n",
    "- The pulse length determines the axial resolution: A short pulse enables separation of targets along the axis.\n",
    "\n",
    "- Pulse length is limited by  bandwidth: The time–bandwidth product, $T_p \\ge \\frac{1}{B_w}$\n",
    "\n",
    "    - Axial resolution is limited by the _absolute_ bandwidth, $B_w$ in Hz. \n",
    "\n",
    "    - Bandwith is often given relative to the centre frequency $f_0$, $B_w = B_r f_0$, where $B_r$ is the _relative_ bandwith, often given in %.\n",
    "\n",
    "- Axial resolution can be expressed as $\\Delta z \\ge 1/2 c T_p \\approx \\frac{c}{2 B_w} = \\frac{c}{2 B_r f_0} $.\n",
    "\n",
    "    - This is a limiting value, it requires the pulse to be shaped as short as possible within the available bandwidth.  \n",
    "\n",
    "    - Axial resolution $\\Delta z$ is inversly proportional to _relative bandwidth_ $B_r$ and _frequency_ $f_0$\n",
    "\n",
    "High resolution images require a transducer with large bandwidth, e.g. $B_r \\ge 90\\%$\n",
    "\n"
   ]
  },
  {
   "cell_type": "code",
   "execution_count": 1,
   "id": "4804799b-cb59-48a1-afbb-e1ed1439cd98",
   "metadata": {
    "jupyter": {
     "source_hidden": true
    },
    "tags": []
   },
   "outputs": [],
   "source": [
    "#--- Run this to import libraries and define internal functions\n",
    "#--- Libraries ---\n",
    "import numpy as np\n",
    "#import scipy.special as sp\n",
    "import matplotlib.pyplot as plt\n",
    "#import matplotlib.patches as patches\n",
    "import ipywidgets as widgets\n",
    "\n",
    "#--- Classes ---\n",
    "   \n",
    "#--- Internal functions ---\n",
    "# Mathematical functions\n",
    "def dB(p, normalise=False):\n",
    "    a = 20*np.log10(abs(p))    \n",
    "    if normalise:\n",
    "        a=a-np.max(a)\n",
    "        \n",
    "    return a   \n",
    "\n",
    "# Calculation\n",
    "\n",
    "# Plotting   \n",
    "def plot_pulse(t,x,Tp):\n",
    "    plt.plot(t*1e6,x)\n",
    "    plt.plot([0, Tp*1e6],[-1,-1], color='salmon', marker='p')\n",
    "    plt.xlim(-0, 4)\n",
    "    plt.ylim(-1.2,1.2)\n",
    "    plt.xlabel(\"Time [$\\mu$s]\")\n",
    "    plt.ylabel(\"Amplitude\")\n",
    "    plt.grid(True, axis='both')\n",
    "    return 0\n",
    "\n",
    "def plot_spectrum(f,Fx):\n",
    "    PdB= dB(Fx, True)\n",
    "    #plt.plot(f/1e6, PdB)\n",
    "    A=np.abs(Fx)\n",
    "    A=A/np.max(A)\n",
    "    plt.plot(f/1e6, A)\n",
    "    ref_3dB=1/np.sqrt(2)\n",
    "    plt.plot([0, 10], [ref_3dB, ref_3dB], color='salmon')\n",
    "    plt.xlim(0, 6)\n",
    "    \n",
    "    dB_min=-30\n",
    "    plt.ylim(0,1)\n",
    "    y_markers=np.arange(0,1.1,0.25)\n",
    "    plt.yticks(y_markers)\n",
    "    plt.xlabel(\"Frequency (MHz)\")\n",
    "    plt.ylabel(\"Power [relative]\")\n",
    "    plt.grid(True, axis='both')\n",
    "    return 0\n",
    "\n",
    "# Main \n",
    "def CalculateAndPlot(f0, Tp):\n",
    "    f0=f0*1e6;\n",
    "    Tp=Tp*1e-6\n",
    "    Np= 1001;\n",
    "    t,fs = np.linspace(0,Tp, Np, retstep=True)\n",
    "    w = np.hanning(Np)\n",
    "    s = np.sin(2*np.pi*f0*t)\n",
    "    x = w*s\n",
    "    \n",
    "    #--- Plot results ---\n",
    "    plt.figure(1,(16, 4))\n",
    "    plt.subplot(1,2,1)\n",
    "    plot_pulse(t,x,Tp)\n",
    "    \n",
    "    plt.subplot(1,2,2)\n",
    "    Nfft= 8192;\n",
    "    Fx=np.fft.rfft(x,Nfft)\n",
    "    f =np.fft.rfftfreq(Nfft,fs)\n",
    "    plot_spectrum(f,Fx)"
   ]
  },
  {
   "cell_type": "code",
   "execution_count": 2,
   "id": "9b18d16a-118d-4d05-abc5-b1ca97875832",
   "metadata": {},
   "outputs": [
    {
     "data": {
      "application/vnd.jupyter.widget-view+json": {
       "model_id": "6db619f7b199413c8e87556465a8c41f",
       "version_major": 2,
       "version_minor": 0
      },
      "text/plain": [
       "interactive(children=(FloatSlider(value=3.0, description='f0', max=5.0, min=1.0, step=0.2), FloatSlider(value=…"
      ]
     },
     "metadata": {},
     "output_type": "display_data"
    },
    {
     "data": {
      "text/plain": [
       "<function __main__.CalculateAndPlot(f0, Tp)>"
      ]
     },
     "execution_count": 2,
     "metadata": {},
     "output_type": "execute_result"
    }
   ],
   "source": [
    "widgets.interact(CalculateAndPlot, f0=(1,5,0.2), Tp=(0.4,4,0.2) )"
   ]
  },
  {
   "cell_type": "code",
   "execution_count": null,
   "id": "3bb9a870-f734-4208-866a-fa54f903c990",
   "metadata": {},
   "outputs": [],
   "source": []
  }
 ],
 "metadata": {
  "kernelspec": {
   "display_name": "Python 3 (ipykernel)",
   "language": "python",
   "name": "python3"
  },
  "language_info": {
   "codemirror_mode": {
    "name": "ipython",
    "version": 3
   },
   "file_extension": ".py",
   "mimetype": "text/x-python",
   "name": "python",
   "nbconvert_exporter": "python",
   "pygments_lexer": "ipython3",
   "version": "3.9.13"
  }
 },
 "nbformat": 4,
 "nbformat_minor": 5
}
