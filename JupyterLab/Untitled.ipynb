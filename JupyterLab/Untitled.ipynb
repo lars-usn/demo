{
 "cells": [
  {
   "cell_type": "markdown",
   "id": "78903393-de8b-4e01-b9e4-ddce453a59b7",
   "metadata": {},
   "source": [
    "T = cS\n"
   ]
  }
 ],
 "metadata": {
  "kernelspec": {
   "display_name": "Python 3 (ipykernel)",
   "language": "python",
   "name": "python3"
  },
  "language_info": {
   "codemirror_mode": {
    "name": "ipython",
    "version": 3
   },
   "file_extension": ".py",
   "mimetype": "text/x-python",
   "name": "python",
   "nbconvert_exporter": "python",
   "pygments_lexer": "ipython3",
   "version": "3.11.5"
  }
 },
 "nbformat": 4,
 "nbformat_minor": 5
}
