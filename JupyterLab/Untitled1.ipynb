{
 "cells": [
  {
   "cell_type": "markdown",
   "id": "c57563b4-25de-4eec-a07f-d053f07c2808",
   "metadata": {},
   "source": [
    "Signal med ukjent frekvens $\\omega_1=2 \\pi f_1$ og fase $\\phi$\n",
    "$$\n",
    " x_1(t) = \\cos(\\omega_1 t + \\phi)\n",
    "$$\n",
    "Referansesignal med kjent frekvens $\\omega_0=2 \\pi f_0$ skrevet som kompleks eksopnential, der realdelen gir i-fase komponenten I og imaginærdelen gir kvadraturkomponenten Q\n",
    "$$\n",
    " x_0(t) = e^{j\\omega_0 t} = \\cos(\\omega_0 t) + \\sin(\\omega_0 t)\n",
    "$$\n",
    "Multipliserer signalene\n",
    "$$\n",
    " s(t) = x_1 (t) x_0(t) = \\cos(\\omega_1 t + \\phi) e^{j\\omega_0 t}  = \\tfrac12 \\left( e^{j(\\omega_1 t + \\phi)} + e^{-j(\\omega_1 t + \\phi)}    \\right) e^{j\\omega_0 t}\n",
    "   = \\tfrac12 \\left( e^{j((\\omega_0 + \\omega_1) t + \\phi)} + e^{j((\\omega_0-\\omega_1) t - \\phi)}  \\right) \n",
    "      = \\tfrac12 \\cos((\\omega_0 + \\omega_1) t + \\phi) +j \\tfrac12 \\sin((\\omega_0 + \\omega_1) t + \\phi)\n",
    "      + \\tfrac12 \\cos((\\omega_0 - \\omega_1) t - \\phi) +j \\tfrac12 \\sin((\\omega_0 - \\omega_1) t - \\phi)\n",
    "$$\n",
    "I-kanalen er realdelen og Q-kanalen er imaginærdelen\n",
    "$$\n",
    " s_I(t) = \\tfrac12 \\cos((\\omega_0 + \\omega_1) t + \\phi) + \\tfrac12 \\cos((\\omega_0 - \\omega_1) t - \\phi) \n",
    " s_Q(t) = \\tfrac12 \\sin((\\omega_0 + \\omega_1) t + \\phi) + \\tfrac12 \\sin((\\omega_0 - \\omega_1) t - \\phi)\n",
    "$$\n",
    "Lavpassfiltrering fjerner sum-frekvensen $\\omega_0 + \\omega_1$ men beholder differansefrekvensen $\\omega_0 -\\omega_1$\n",
    "$$\n",
    " s_{If}(t) =\\tfrac12 \\cos((\\omega_0 - \\omega_1) t - \\phi) \n",
    " s_{Qf}(t) =\\tfrac12 \\sin((\\omega_0 - \\omega_1) t - \\phi)\n",
    "$$\n",
    "\n",
    "\n",
    "\n"
   ]
  },
  {
   "cell_type": "code",
   "execution_count": null,
   "id": "71aa3938-1691-466d-bdce-2bf27cb0d9f8",
   "metadata": {},
   "outputs": [],
   "source": []
  }
 ],
 "metadata": {
  "kernelspec": {
   "display_name": "Python 3 (ipykernel)",
   "language": "python",
   "name": "python3"
  },
  "language_info": {
   "codemirror_mode": {
    "name": "ipython",
    "version": 3
   },
   "file_extension": ".py",
   "mimetype": "text/x-python",
   "name": "python",
   "nbconvert_exporter": "python",
   "pygments_lexer": "ipython3",
   "version": "3.11.5"
  }
 },
 "nbformat": 4,
 "nbformat_minor": 5
}
