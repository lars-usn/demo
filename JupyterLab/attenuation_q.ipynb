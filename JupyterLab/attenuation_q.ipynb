{
 "cells": [
  {
   "cell_type": "markdown",
   "id": "4cf8ef7d-bd56-49c6-86d3-c296301a7093",
   "metadata": {
    "tags": []
   },
   "source": [
    "ccccccccccccccccccccccccccccccccccccccccccccccccccccccccccccccccccccccccccccccccccccccccccccccccccccccccccccccccccccccccccccccccccccccccccccccccccccccccccccccccccccccccccccccccccccccccccccccccccccccccccccccccccccccccccccccccccccccccccccccccccccccccccccccccccccccccccccccccccccccccccccccccccccccccccccccccccccccccccccccccccccccccccccccccccccccccccccccccccccccccccccccccccccccccccccccccccccccccccccccccccccccccccccccccccccccccccccccccccccccccccccccccccccccccccccccccccccccccccccccccccccccccccccccccccccccccccccccccccccccccccccccccccccccccccccccccccccccccccccccccccccccccccccccccccccccccccccccccccccccccccccccccccccccccccccccccccccccccccccccccccccccccccccccccccccccccccccccccccccccccccccccc                            c ccccccccccccccccccc cccccccccccccccccccccccccccccccccc x# Attenuation as Q-value\n",
    "Damping in a passive material can be described in multiple ways. Examples are a complex wave number $k_r-j k_i$, complex speed of sound $c_r+jc_i$,  attenuation coefficient $\\alpha$, or a Q-value.\n",
    "\n",
    "This note gives relations between the formulations.\n",
    "\n",
    "# Complex wave-number \n",
    "Note the negative sign conventon for $k_i$\n",
    "$$\n",
    "k=k_r-jk_i\n",
    "$$\n",
    "Complex speed of sound\n",
    "$$\n",
    "\\begin{aligned}\n",
    "  c &=\\omega/k = \\frac{\\omega}{k_r-jk_i} =\\frac{\\omega}{k_r} \\frac{1}{1-jk_i/k_r} = \\frac{\\omega}{k_r} \\frac{1+jk_i/k_r}{1+(k_i/k_r)^2} \n",
    "  \\approx \\frac{\\omega}{k_r} \\left( 1+j \\frac{k_i}{k_r} \\right) \n",
    "         = c_r \\left( 1 + j \\frac{k_i}{k_r} \\right) =c_r+j c_i \\\\\n",
    "  & c_i= c_r \\frac{k_i}{k_r} \\qquad , \\qquad \\frac{c_i}{c_r}= \\frac{k_i}{k_r}\n",
    "\\end{aligned}\n",
    "$$\n",
    "Attenuation $\\alpha$\n",
    "$$\n",
    "\\begin{aligned}\n",
    "  p(x,t) &= p_0 e^{j(\\omega t - kx)} = p_0 e^{j(\\omega t - (k_r-jk_i)x)} =  p_0 e^{j(\\omega t - k_r x)} e^{-k_i x}=  p_0 e^{j(\\omega t - k_r x)} e^{-\\alpha x} \\quad , \\quad \\alpha = k_i\n",
    "\\end{aligned}\n",
    "$$\n",
    "\n",
    "# Intensity\n",
    "Intensity loss from attenuation $\\alpha$\n",
    "$$\n",
    "\\begin{aligned}\n",
    "  I &= \\frac{|p|^2}{2\\rho c} = I_0 e^{-2\\alpha x}   \\quad , \\quad I_0 = \\frac{p_0^2}{2\\rho c} \n",
    "\\end{aligned}\n",
    "$$\n",
    "Energy loss per unit distance\n",
    "$$\n",
    "\\begin{aligned}\n",
    "  \\frac{dI}{dx} &= -2\\alpha I(x) \\quad , &  \\quad \\frac{-\\Delta I}{I}= 2 \\alpha \\Delta x\n",
    "\\end{aligned}\n",
    "$$\n",
    "Relative energy loss over one wavelength\n",
    "$$\n",
    "\\begin{aligned}\n",
    "  \\Delta x &= \\lambda &  \\frac{(-\\Delta I)_\\lambda}{I}= 2 \\alpha \\Delta \\lambda = 2 k_i \\lambda = 2 k_i \\frac{2\\pi}{k_r} = 4 \\pi \\frac{ k_i}{k_r}\n",
    "\\end{aligned}\n",
    "$$\n",
    "\n",
    "# Q-value\n",
    "$$\n",
    "\\begin{aligned}\n",
    "   Q &= 2\\pi \\frac{ I }{ (-\\Delta I)_\\lambda } =  \\frac{ k_r }{ 2 k_i } = \\frac{ c_r }{ 2 c_i } &\n",
    " c_i &= \\frac{c_r}{2 Q} \\\\\n",
    "   c &= c_r +j c_i = c_r \\left( 1+ \\frac{j}{2Q} \\right) &\n",
    "   k& =k_r-jk_i \\approx \\frac{\\omega}{c_r} \\left(1 - \\frac{j}{2Q} \\right) \\\\\n",
    "   Q &= \\frac{k_r}{2\\alpha}= \\frac{\\omega}{2c\\alpha} = \\frac{\\pi f}{c\\alpha} &\n",
    "   \\alpha &= \\frac{1}{2Q} \\frac{\\omega}{c} = \\frac{1}{Q} \\frac{\\pi f}{c} \n",
    "\\end{aligned}\n",
    "$$\n",
    "\n",
    "## Attenuation coeficient in dB\n",
    "$$\n",
    "\\begin{aligned}\n",
    "  p(x,t) &=  p_0 e^{j(\\omega t - k_r x)} e^{-\\alpha x} \\\\\n",
    "  20 \\lg\\left| \\frac{p}{p_0} \\right| &= 20 \\lg \\left( e^{-\\alpha x} \\right) = -20 \\lg (e) \\times \\alpha x  = -8.69 \\alpha x \\\\\n",
    "  \\alpha_{dB} &= 20 \\lg (e) \\alpha = 8.69 \\alpha\n",
    "\\end{aligned}\n",
    "$$\n",
    "\n",
    "## Example: Q-value for water\n",
    ">- Attenuation coefficient $\\alpha$= 0.0022 dB/(cm MHz)\n",
    ">- Frequency 200 kHz       $\\alpha_{dB}$=0.044 dB/m\n",
    ">- Expressed in Np (1/m)  $\\alpha_{dB} = \\frac{\\alpha_{dB}}{8.69} = 5.1 \\times 10^{-3}$ 1/m\n",
    ">-   $Q =\\frac{\\pi f}{c\\alpha} = 8\\times 10^{4}$\n",
    "\n",
    "\n",
    "\n"
   ]
  },
  {
   "cell_type": "code",
   "execution_count": 5,
   "id": "dc557473-1fec-4294-9e4b-35da7ae44b2a",
   "metadata": {
    "tags": []
   },
   "outputs": [],
   "source": [
    "import numpy as np\n",
    "import matplotlib.pyplot as plt\n",
    "import ipywidgets as widgets\n",
    "\n",
    "def plot_q(c):\n",
    "    DB_CONST = 20* np.log10( np.exp(1) )\n",
    "\n",
    "    alpha_dB_cm_MHz = np.linspace( 0.05, 4, 1000 )  # Range of attenuations, using conventional medical uotrasound unit [dB/(cm MHz)]\n",
    "    alpha_dB  = alpha_dB_cm_MHz/1e6*100             # Convert to [dB/(m Hz)]\n",
    "    Q = np.pi/( c * alpha_dB )                      # Corresponding Q-value\n",
    "\n",
    "    #--- Plot result in graph ---\n",
    "    plt.figure( 1, ( 10, 6 ) )\n",
    "    plt.semilogy( alpha_dB_cm_MHz, Q )\n",
    "    plt.xlabel( 'Attenuation [dB/(cm MHz)]' )\n",
    "    plt.ylabel( 'Q' )\n",
    "    plt.title( f'Speed of sound {c:.0f} m/s' )\n",
    "    plt.grid( True, which= 'major', axis='x' )\n",
    "    plt.grid( True, which= 'both',  axis='y' )\n",
    "    plt.xlim( 0, 4 )                       \n",
    "    plt.ylim( 1, 1e3 ) "
   ]
  },
  {
   "cell_type": "code",
   "execution_count": 6,
   "id": "1984a31a-72d1-4dcb-84a3-edcfbdad7ce9",
   "metadata": {
    "tags": []
   },
   "outputs": [
    {
     "data": {
      "application/vnd.jupyter.widget-view+json": {
       "model_id": "47c4b855af3c426e961ed12e9026004d",
       "version_major": 2,
       "version_minor": 0
      },
      "text/plain": [
       "interactive(children=(FloatSlider(value=1500.0, description='c [m/s]', max=8000.0, min=500.0, readout_format='…"
      ]
     },
     "metadata": {},
     "output_type": "display_data"
    }
   ],
   "source": [
    "widgets.interact(plot_q, c=widgets.FloatSlider( min=500, max=8000, step=100, value=1500, description='c [m/s]', orientation='horizontal', continuous_update=True, readout_format='.0f' ) );"
   ]
  },
  {
   "cell_type": "code",
   "execution_count": null,
   "id": "9dc8d226-ca51-4d88-9ecd-0832d9be5204",
   "metadata": {},
   "outputs": [],
   "source": []
  },
  {
   "cell_type": "code",
   "execution_count": null,
   "id": "ad199936-1dea-4af8-bbfa-b90a6aa5255f",
   "metadata": {},
   "outputs": [],
   "source": []
  },
  {
   "cell_type": "code",
   "execution_count": null,
   "id": "f9a8ae28-40a2-4e81-ba50-f217fbeac3cf",
   "metadata": {},
   "outputs": [],
   "source": []
  },
  {
   "cell_type": "code",
   "execution_count": null,
   "id": "f2693fab-b505-471c-8eb4-894caf292352",
   "metadata": {},
   "outputs": [],
   "source": []
  }
 ],
 "metadata": {
  "kernelspec": {
   "display_name": "Python 3 (ipykernel)",
   "language": "python",
   "name": "python3"
  },
  "language_info": {
   "codemirror_mode": {
    "name": "ipython",
    "version": 3
   },
   "file_extension": ".py",
   "mimetype": "text/x-python",
   "name": "python",
   "nbconvert_exporter": "python",
   "pygments_lexer": "ipython3",
   "version": "3.11.5"
  }
 },
 "nbformat": 4,
 "nbformat_minor": 5
}
