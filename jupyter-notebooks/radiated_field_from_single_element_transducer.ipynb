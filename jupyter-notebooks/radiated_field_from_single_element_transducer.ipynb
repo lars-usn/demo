{
 "cells": [
  {
   "cell_type": "markdown",
   "metadata": {
    "tags": []
   },
   "source": [
    "# Beam Profile From a Single Transducer Element \n",
    "\n",
    "## Radiated sound from a vibrating surface: The Rayleigh integral\n",
    "The radiated field from a vibrating surface in a rigid baffle is calculated from the Rayleigh integral\n",
    "$$\n",
    "p(\\vec r,t)= \\iint_{S_1} \\frac {1}{2\\pi R}  \\frac {\\partial v_n(t-R/c)}{\\partial t }  dS_1\n",
    "$$\n",
    "The following calculations will be done in the frequency domain, where the Rayleigh integral is transformed to\n",
    "$$\n",
    "\\begin{aligned}\n",
    "p(\\vec r,t) &= Re\\{ \\hat p (\\vec r,\\omega) e^{j\\omega t} \\} &\n",
    "\\hat p(\\vec r,\\omega)&= \\frac{j\\rho c k v_0}{2\\pi}\\iint_{S_1} \\frac {1}{R}  e^{j(\\omega t-R/c)} \\xi(x_1,y_1) dS_1\n",
    "\\end{aligned}\n",
    "$$\n",
    "Note that the short pulses, as used in e.g. medical ultrasound imaging, are broadband and must me described by a range of frequencies. This smears out some of the phenomena found for one frequency, such as side lobes. However, the main properties concerning beam width and shape are the same as for single frequency pulses.\n",
    "\n",
    "<div>\r",
    "<img src=\"fraunhofer-drawing.png\" alt=\"Alternative text\" width=\"600\" />\n",
    "\r\n",
    "</div>)\n",
    "\n",
    "\n",
    "## Far-field approximation\n",
    "Evaluation of the Rayleigh integral at any position in front of any vibrating surface can only be done numerically. However, approximate solutions can be found for some common aperture shapes in the far-field, i.e., at large distance from the source. The far-field approximations are also valid in the focal region of focused transducers. \n",
    "\n",
    "The Fraunhofer approximation is based on two assumptions\n",
    "#### Amplitude\n",
    "The variations in the amplitude factor $\\frac{1}{2\\pi R}$ are small when $R$ varies over the aperture $S_1=(x_1,y_1)$. These variations are ignored by setting $\\frac{1}{2\\pi R} \\approx \\frac{1}{2\\pi r}$.\n",
    "\n",
    "#### Phase \n",
    "The phase factor $e^{-j\\omega R/c}$  interference between waves from different positions on the aperture. These differences in $R$ need not be small compared to the wavelength $\\lambda$ , and are included to the first order by the approximation\n",
    "$$\n",
    "R= \\sqrt{ (x-x_1)^2 -(y-y_1)^2 -z^2 )} \\approx r - \\frac{xx_1}{r} - \\frac{yy_1}{r} = r-x_1 \\sin\\theta - y_1 \\sin\\phi\n",
    "$$\n",
    "This approximation reduces $R$ to a function of the distance $r$ from the aparture center and two direction angles $\\theta$ and $\\phi$.\n",
    "\n",
    "\n",
    "#### Beam profile in the far-field\n",
    "$$\n",
    "\\begin{aligned}\n",
    "\\hat p(\\vec r,\\omega)& \\approx \\frac{j\\rho c k v_0}{2\\pi r} e^{-jkr}\\iint_{S_1} e^{j(k_x x_1 + k_y y_1) } \\xi(x_1,y_1) dS_1\n",
    "\\end{aligned}\n",
    "$$\n",
    "\n",
    "This result can consists of three factors that can be interpreted as\n",
    "$$\n",
    "\\begin{aligned}\n",
    "A(r)&= \\frac{j\\rho c k v_0}{2\\pi r} & & \\text{Amplitude decays proportional to distance, as $1/r$} \\\\\n",
    "    &e^{-jkr}                       & & \\text{Phase factor, usually not very interesting} \\\\\n",
    "D(\\theta,\\phi) &= \\iint_{S_1} e^{j(k_x x_1 + k_y y_1) } \\xi(x_1,y_1) dS_1 & &\\text{Variation with angle, often called the Dirctivity function } \\\\\n",
    "\\end{aligned}\n",
    "$$\n",
    "Note that $D(\\theta,\\phi)$ is the 2D spatial Fourier-transformation of the apodization function $\\xi(x_1,y_1)$. This allows fast and easy numerical calculationsby using the FFT-function built into most software tools. \n",
    "\n",
    "The integral for $D(\\theta,\\phi)$ can be solved analytically for simple apertures. Classic and important examples are rectqangular and circular apertures with uniform oscillation amplitude, i.e. $\\xi(x_1,y_1)=1$ on the aperture and $\\xi(x_1,y_1)=0$ outside. See the lecture notes for details.\n",
    "\n",
    "$$\n",
    "\\begin{aligned}\n",
    "&\\text{Rectangular aperture} & D(\\theta,\\phi)& = \\frac{1}{wh} sinc \\left( \\frac{w}{\\lambda}\\sin \\theta \\right) sinc \\left( \\frac{h}{\\lambda}\\sin \\phi \\right)  \\: ,&\n",
    "sinc(u) &= \\frac{\\sin(\\pi u)}{\\pi u} \\\\\n",
    "&\\text{Circular aperture} & D(\\theta) & = \\frac{2 J_1(k a \\sin\\theta)}{k a \\sin\\theta}\n",
    "    = jinc \\left( \\frac{D}{\\lambda} \\sin\\theta \\right) \n",
    "      \\: ,& jinc(u)&=  \\frac{2J_1(\\pi u)}{\\pi u}   & D&=2a\n",
    "\\end{aligned}\n",
    "$$\n",
    "where $J_1(x)$ is the Bessel function of the fist kind and order one. The jinc-function is introduced analogous to the sinc-function. Note that different definitions exist for the sinc- and jinc-functions, e.g., without the $\\pi$ and the factor 2.\n",
    "##  Move the slidersbelow  to test different apertures and dimension."
   ]
  },
  {
   "cell_type": "code",
   "execution_count": 1,
   "metadata": {
    "slideshow": {
     "slide_type": "fragment"
    },
    "tags": []
   },
   "outputs": [
    {
     "data": {
      "application/vnd.jupyter.widget-view+json": {
       "model_id": "95254a7c86ff423f8bce0cfb5ea853b7",
       "version_major": 2,
       "version_minor": 0
      },
      "text/plain": [
       "interactive(children=(FloatSlider(value=2.0, description='Width (Diameter) [mm]', max=20.0, min=0.2), FloatSli…"
      ]
     },
     "metadata": {},
     "output_type": "display_data"
    },
    {
     "data": {
      "text/plain": [
       "<function single_element_beam_pattern.calculate_plot(width, height, frequency, shape)>"
      ]
     },
     "execution_count": 1,
     "metadata": {},
     "output_type": "execute_result"
    }
   ],
   "source": [
    "import single_element_beam_pattern\n",
    "import ipywidgets as widgets\n",
    "\n",
    "shape_widget = widgets.Dropdown(options=['Rectangular', 'Circular'], value='Rectangular', description='Shape' )\n",
    "frequency_widget = widgets.FloatSlider(min= 1, max= 10, value= 5, step=0.1, description='Freq. [MHz]', orientation='horizontal')\n",
    "width_widget = widgets.FloatSlider(min=0.2, max= 20, value=2, step=0.1, description='Width (Diameter) [mm]',  orientation='horizontal')\n",
    "height_widget = widgets.FloatSlider(min= 1, max= 20, value=10, step=1, description='Height [mm]', orientation='horizontal')\n",
    "\n",
    "widgets.interact( single_element_beam_pattern.calculate_plot, \n",
    "                 shape=shape_widget, \n",
    "                 frequency=frequency_widget, \n",
    "                 width=width_widget, \n",
    "                 height=height_widget )\n",
    "                                   "
   ]
  },
  {
   "cell_type": "code",
   "execution_count": null,
   "metadata": {},
   "outputs": [],
   "source": []
  },
  {
   "cell_type": "code",
   "execution_count": null,
   "metadata": {},
   "outputs": [],
   "source": []
  },
  {
   "cell_type": "code",
   "execution_count": null,
   "metadata": {},
   "outputs": [],
   "source": []
  },
  {
   "cell_type": "code",
   "execution_count": null,
   "metadata": {},
   "outputs": [],
   "source": []
  },
  {
   "cell_type": "code",
   "execution_count": null,
   "metadata": {},
   "outputs": [],
   "source": []
  },
  {
   "cell_type": "code",
   "execution_count": null,
   "metadata": {},
   "outputs": [],
   "source": []
  }
 ],
 "metadata": {
  "celltoolbar": "Slideshow",
  "kernelspec": {
   "display_name": "Python 3 (ipykernel)",
   "language": "python",
   "name": "python3"
  },
  "language_info": {
   "codemirror_mode": {
    "name": "ipython",
    "version": 3
   },
   "file_extension": ".py",
   "mimetype": "text/x-python",
   "name": "python",
   "nbconvert_exporter": "python",
   "pygments_lexer": "ipython3",
   "version": "3.12.3"
  }
 },
 "nbformat": 4,
 "nbformat_minor": 4
}
