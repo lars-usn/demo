{
 "cells": [
  {
   "cell_type": "markdown",
   "id": "a7ed532e-e028-4040-9dda-6338acc9085a",
   "metadata": {},
   "source": [
    "# Aluminium block in water\n",
    "Thickness $d$= 20 mm.\n",
    "\\begin{aligned}\n",
    "  &\\text{Water}     & c_{w} & = 1500 m/s & & Z_{w}= 1.5 MRayl     & t_{w} = d/c_w     &= 13.3 \\mu s \\\\\n",
    "  &\\text{Aluminium} & c_{Al}& = 6400 m/s & & Z_{Al}= 17 MRayl     & t_{Al} = d/c_{Al} &= 3.1 \\mu s \n",
    "\\end{aligned}\n",
    "Propagation time difference $\\Delta t= t_{w} - t_{Al}= 10 \\mu s $\n",
    "\n",
    "## Reflection and transmission\n",
    "\\begin{aligned}\n",
    "  &\\text{Water - Aluminium}     & R_{w} =  R=\\frac{Z_{Al}-Z_{w}}{Z_{Al}+Z_{w}} &= 0.84 &  T_{w}&=1+R=1.84  \\\\\n",
    "  &\\text{Aluminium - Water}     & R_{Al}= -R&=- 0.84                                   &  T_{Al}&=1-R=0.16  \n",
    "\\end{aligned}\n",
    "\n",
    "## Reflected signals\n",
    "\\begin{aligned}\n",
    "  &\\text{1st}     & R_{w} = R&= 0.84 \\\\\n",
    "  &\\text{2nd}     & T_{w}R_{Al}T_{Al} = (1+R)(-R)(1-R) = -R(1+R^2 )&= -0.25\n",
    "\\end{aligned}\n",
    "\n",
    "\n",
    "## Transmitted signals\n",
    "\\begin{aligned}\n",
    "  &\\text{1st}     & T_{w}T_{Al} = (1+R)(1-R)  &=  0.30 \\\\\n",
    "  &\\text{2nd}     & T_{w}R_{Al}R_{Al}T_{Al}    &=  0.21\n",
    "\\end{aligned}\n",
    "\n",
    "\n",
    "\n"
   ]
  },
  {
   "cell_type": "code",
   "execution_count": 9,
   "id": "3b8f5635-dac3-4b23-a062-db719dfce430",
   "metadata": {},
   "outputs": [
    {
     "name": "stdout",
     "output_type": "stream",
     "text": [
      "Propagation time difference 10.208333333333334 us\n",
      "1st reflected wave A=0.8378378378378378\n",
      "2nd reflected wave A=-0.24969893194874931\n",
      "1st transmitted wave A=0.29802775748721694\n",
      "2nd transmitted wave A=0.20920721325435754\n"
     ]
    }
   ],
   "source": [
    "Z1 = 1.5\n",
    "Z2 = 17\n",
    "c1 = 1500\n",
    "c2 = 6400\n",
    "d  = 20e-3\n",
    "\n",
    "t1 = d/c1\n",
    "t2 = d/c2\n",
    "\n",
    "dt = t1-t2\n",
    "\n",
    "print (f'Propagation time difference {dt*1e6} us')\n",
    "R  = (Z2-Z1)/(Z2+Z1)\n",
    "R1 = R\n",
    "R2 =-R\n",
    "T1 = 1+R\n",
    "T2 = 1-R\n",
    "\n",
    "AR1 = R\n",
    "AR2 = T1*R2*T2\n",
    "AT1 = T1*T2\n",
    "AT2 = T1*R2*R2*T2\n",
    "\n",
    "print(f'1st reflected wave A={AR1}')\n",
    "print(f'2nd reflected wave A={AR2}')\n",
    "print(f'1st transmitted wave A={AT1}')\n",
    "print(f'2nd transmitted wave A={AT2}')\n",
    "\n"
   ]
  },
  {
   "cell_type": "code",
   "execution_count": null,
   "id": "830f959a-7703-4cd8-8de9-0400fd2f35e1",
   "metadata": {},
   "outputs": [],
   "source": []
  }
 ],
 "metadata": {
  "kernelspec": {
   "display_name": "Python 3 (ipykernel)",
   "language": "python",
   "name": "python3"
  },
  "language_info": {
   "codemirror_mode": {
    "name": "ipython",
    "version": 3
   },
   "file_extension": ".py",
   "mimetype": "text/x-python",
   "name": "python",
   "nbconvert_exporter": "python",
   "pygments_lexer": "ipython3",
   "version": "3.9.13"
  }
 },
 "nbformat": 4,
 "nbformat_minor": 5
}
