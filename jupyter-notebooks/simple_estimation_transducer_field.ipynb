{
 "cells": [
  {
   "cell_type": "markdown",
   "metadata": {
    "tags": []
   },
   "source": [
    "# Beam Profile From a Single Transducer Element \n",
    "\n",
    "Run the following cells first to set up the system"
   ]
  },
  {
   "cell_type": "code",
   "execution_count": 18,
   "metadata": {
    "tags": []
   },
   "outputs": [],
   "source": [
    "#--- Run this to import libraries and define internal functions\n",
    "#--- Libraries ---\n",
    "import numpy as np\n",
    "import matplotlib.pyplot as plt\n",
    "import ipywidgets as widgets\n",
    "\n",
    "# Main \n",
    "def CalculateAndPlot( D_mm, f_MHz):\n",
    "    D = D_mm/1e3\n",
    "    f = f_MHz*1e6\n",
    "    c = 1500\n",
    "    l = c/f\n",
    "\n",
    "    theta = l/D\n",
    "\n",
    "    z = np.linspace( 0, 400e-3, 1000)\n",
    "\n",
    "    yc = D/2*np.ones( z.shape )\n",
    "    yd = theta/2*z\n",
    "    y2 = np.stack(( yc, yd))\n",
    "    yo = y2.max( axis=0 )\n",
    "\n",
    "    fig, ax = plt.subplots()\n",
    "    fig.set_size_inches(( 15, 3 ))\n",
    "    \n",
    "    ax.plot( z*1e3, yc*1e3, z*1e3, -yc*1e3, color='lightsteelblue', linewidth= 1  )\n",
    "    ax.plot( z*1e3, yd*1e3, z*1e3, -yd*1e3, color='lightsteelblue', linewidth= 1  )\n",
    "    ax.plot( z*1e3, yo*1e3, z*1e3, -yo*1e3, color='steelblue',      linewidth= 1.5  )\n",
    "\n",
    "    ax.set_xlabel('Distance [mm]')\n",
    "    ax.set_ylabel('Width [mm]')\n",
    "    ax.axis('equal')\n",
    "    ax.set_xlim( 0, 300 )\n",
    "    ax.set_ylim( -30, 30)\n",
    "    ax.grid( True )\n",
    "\n",
    "    plt.show()\n"
   ]
  },
  {
   "cell_type": "markdown",
   "metadata": {
    "tags": []
   },
   "source": [
    "# Simple estimation of the radiated sound field from a single-element trasnducer\n",
    "This estimate is based o a very simple geometrical model\n",
    ">- The opening angle is $\\theta=\\lambda/D$, where $\\lambda$ is the wavelength and $D$ is the trasndcer diameter\n",
    ">- The file is limited by the largest of the diameter $D$ of the trasnducer and the opening angle \n",
    "\n",
    "### The model has been implented below. Move the sliders to change aperture and dfrequency\n",
    "\n",
    "D_mm is aperture diameter im mm \n",
    "\n",
    "f_MHz is frequency in MHz. \n"
   ]
  },
  {
   "cell_type": "code",
   "execution_count": 19,
   "metadata": {
    "tags": []
   },
   "outputs": [
    {
     "data": {
      "application/vnd.jupyter.widget-view+json": {
       "model_id": "ba9c8c9b261a4bdf95cfae357c50a08c",
       "version_major": 2,
       "version_minor": 0
      },
      "text/plain": [
       "interactive(children=(IntSlider(value=15, description='D_mm', max=30, min=1), FloatSlider(value=5.0, descripti…"
      ]
     },
     "metadata": {},
     "output_type": "display_data"
    },
    {
     "data": {
      "text/plain": [
       "<function __main__.CalculateAndPlot(D_mm, f_MHz)>"
      ]
     },
     "execution_count": 19,
     "metadata": {},
     "output_type": "execute_result"
    }
   ],
   "source": [
    "widgets.interact(CalculateAndPlot, D_mm=(1,30,1), f_MHz=(1,10,0.1))"
   ]
  },
  {
   "cell_type": "code",
   "execution_count": null,
   "metadata": {},
   "outputs": [],
   "source": []
  },
  {
   "cell_type": "code",
   "execution_count": null,
   "metadata": {},
   "outputs": [],
   "source": []
  },
  {
   "cell_type": "code",
   "execution_count": null,
   "metadata": {},
   "outputs": [],
   "source": []
  }
 ],
 "metadata": {
  "kernelspec": {
   "display_name": "Python 3 (ipykernel)",
   "language": "python",
   "name": "python3"
  },
  "language_info": {
   "codemirror_mode": {
    "name": "ipython",
    "version": 3
   },
   "file_extension": ".py",
   "mimetype": "text/x-python",
   "name": "python",
   "nbconvert_exporter": "python",
   "pygments_lexer": "ipython3",
   "version": "3.10.8"
  }
 },
 "nbformat": 4,
 "nbformat_minor": 4
}
